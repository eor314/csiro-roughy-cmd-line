{
 "cells": [
  {
   "cell_type": "markdown",
   "metadata": {},
   "source": [
    "# Test gluon tools with egg data"
   ]
  },
  {
   "cell_type": "markdown",
   "metadata": {},
   "source": [
    "## 24/02/21\n",
    "- data path: 'SplitProf-obj-detect-240221/'\n",
    "    - use all egg data\n",
    "    - split by profile\n",
    "    - subset copepods so even ratio\n",
    "    - test data preserves natural distribution\n",
    "- network backbone: MobileNet\n",
    "- train mode: finetune from ImageNet weights\n",
    "- epochs: 10"
   ]
  },
  {
   "cell_type": "code",
   "execution_count": 1,
   "metadata": {},
   "outputs": [],
   "source": [
    "import numpy as np\n",
    "import mxnet as mx\n",
    "from mxnet import autograd, gluon\n",
    "import gluoncv as gcv\n",
    "import argparse\n",
    "import sys\n",
    "from gluoncv.utils import viz\n",
    "from gluoncv.data import VOCDetection\n",
    "from gluoncv.data.batchify import Tuple, Stack, Pad\n",
    "from gluoncv.data.transforms.presets.ssd import SSDDefaultTrainTransform, SSDDefaultValTransform\n",
    "from gluoncv.utils.metrics.voc_detection import VOC07MApMetric\n",
    "from gluoncv.data.pascal_voc.detection import CustomVOCDetectionBase"
   ]
  },
  {
   "cell_type": "code",
   "execution_count": 2,
   "metadata": {},
   "outputs": [],
   "source": [
    "from finetune import get_dataloader, validate, train"
   ]
  },
  {
   "cell_type": "markdown",
   "metadata": {},
   "source": [
    "## Preliminaries\n",
    "Load in pre-trained SSD with mobilenet backbone"
   ]
  },
  {
   "cell_type": "code",
   "execution_count": 3,
   "metadata": {},
   "outputs": [
    {
     "name": "stderr",
     "output_type": "stream",
     "text": [
      "/home/eorenstein/anaconda3/envs/mx-gluon/lib/python3.6/site-packages/mxnet/gluon/block.py:1512: UserWarning: Cannot decide type for the following arguments. Consider providing them as input:\n",
      "\tdata: None\n",
      "  input_sym_arg_type = in_param.infer_type()[0]\n"
     ]
    }
   ],
   "source": [
    "net = gcv.model_zoo.get_model('ssd_512_mobilenet1.0_voc', pretrained=True)"
   ]
  },
  {
   "cell_type": "markdown",
   "metadata": {},
   "source": [
    "Define a few file paths, etc"
   ]
  },
  {
   "cell_type": "code",
   "execution_count": 4,
   "metadata": {},
   "outputs": [],
   "source": [
    "rt = '/home/eorenstein/'\n",
    "voc_base = 'VOCCopepodEgg'\n",
    "img_list = 'SplitProf-obj-detect-240221/'\n",
    "cl = ('copepod', 'eggs') "
   ]
  },
  {
   "cell_type": "markdown",
   "metadata": {},
   "source": [
    "Load in the appropriate datasets"
   ]
  },
  {
   "cell_type": "code",
   "execution_count": 5,
   "metadata": {},
   "outputs": [],
   "source": [
    "train_dataset = CustomVOCDetectionBase(classes=cl,\n",
    "                          root=rt, \n",
    "                          splits=((voc_base,f'{img_list}/train'),))\n",
    "val_dataset =CustomVOCDetectionBase(classes=cl,\n",
    "                          root=rt, \n",
    "                          splits=((voc_base,f'{img_list}/val'),))"
   ]
  },
  {
   "cell_type": "markdown",
   "metadata": {},
   "source": [
    "Define the training metric"
   ]
  },
  {
   "cell_type": "code",
   "execution_count": 6,
   "metadata": {},
   "outputs": [],
   "source": [
    "val_metric = VOC07MApMetric(iou_thresh=0.5, class_names=val_dataset.classes)"
   ]
  },
  {
   "cell_type": "markdown",
   "metadata": {},
   "source": [
    "Find and activate the GPU"
   ]
  },
  {
   "cell_type": "code",
   "execution_count": 7,
   "metadata": {},
   "outputs": [
    {
     "name": "stdout",
     "output_type": "stream",
     "text": [
      "GPU found\n"
     ]
    }
   ],
   "source": [
    "contx = [mx.gpu(0)]\n",
    "print('GPU found')"
   ]
  },
  {
   "cell_type": "markdown",
   "metadata": {},
   "source": [
    "Put the network on the GPU and reset the classes"
   ]
  },
  {
   "cell_type": "code",
   "execution_count": 8,
   "metadata": {},
   "outputs": [],
   "source": [
    "net.collect_params().reset_ctx(contx)\n",
    "net.reset_class(val_dataset.classes)"
   ]
  },
  {
   "cell_type": "markdown",
   "metadata": {},
   "source": [
    "Set up the dataloader that will pass the images to the GPU. Hardcode data shape (IE shape in pixels that the image will be resize to), batch size, and the number of workers (CPU threads for data preprocessing)."
   ]
  },
  {
   "cell_type": "code",
   "execution_count": 9,
   "metadata": {},
   "outputs": [],
   "source": [
    "train_data, val_data = get_dataloader(net, train_dataset, val_dataset, 512, 16, 0,\n",
    "                                      contx[0])"
   ]
  },
  {
   "cell_type": "markdown",
   "metadata": {},
   "source": [
    "## Train\n",
    "Actually run the training. Hardcode the number of epochs and how often to run validation."
   ]
  },
  {
   "cell_type": "code",
   "execution_count": 10,
   "metadata": {},
   "outputs": [
    {
     "name": "stdout",
     "output_type": "stream",
     "text": [
      "[Epoch 0][Batch 0], Speed: 2.271 samples/sec, CrossEntropy=14.321, SmoothL1=1.746\n",
      "[Epoch 0][Batch 20], Speed: 33.791 samples/sec, CrossEntropy=5.809, SmoothL1=1.545\n",
      "[Epoch 0][Batch 40], Speed: 36.022 samples/sec, CrossEntropy=4.499, SmoothL1=1.371\n",
      "[Epoch 0][Batch 60], Speed: 36.565 samples/sec, CrossEntropy=3.917, SmoothL1=1.251\n",
      "[Epoch 0][Batch 80], Speed: 35.824 samples/sec, CrossEntropy=3.580, SmoothL1=1.192\n",
      "[Epoch 0][Batch 100], Speed: 37.286 samples/sec, CrossEntropy=3.342, SmoothL1=1.139\n",
      "[Epoch 0][Batch 120], Speed: 36.855 samples/sec, CrossEntropy=3.176, SmoothL1=1.100\n",
      "[Epoch 0][Batch 140], Speed: 37.961 samples/sec, CrossEntropy=3.047, SmoothL1=1.077\n",
      "copepod=0.8967020030117395\n",
      "eggs=0.11186800173806666\n",
      "mAP=0.504285002374903\n",
      "[Epoch 1][Batch 0], Speed: 34.761 samples/sec, CrossEntropy=1.910, SmoothL1=0.723\n",
      "[Epoch 1][Batch 20], Speed: 35.049 samples/sec, CrossEntropy=2.163, SmoothL1=0.886\n",
      "[Epoch 1][Batch 40], Speed: 36.278 samples/sec, CrossEntropy=2.150, SmoothL1=0.865\n",
      "[Epoch 1][Batch 60], Speed: 35.476 samples/sec, CrossEntropy=2.125, SmoothL1=0.863\n",
      "[Epoch 1][Batch 80], Speed: 36.137 samples/sec, CrossEntropy=2.111, SmoothL1=0.864\n",
      "[Epoch 1][Batch 100], Speed: 35.093 samples/sec, CrossEntropy=2.089, SmoothL1=0.842\n",
      "[Epoch 1][Batch 120], Speed: 36.692 samples/sec, CrossEntropy=2.073, SmoothL1=0.838\n",
      "[Epoch 1][Batch 140], Speed: 35.181 samples/sec, CrossEntropy=2.058, SmoothL1=0.835\n",
      "[Epoch 2][Batch 0], Speed: 35.784 samples/sec, CrossEntropy=1.764, SmoothL1=0.644\n",
      "[Epoch 2][Batch 20], Speed: 32.511 samples/sec, CrossEntropy=1.997, SmoothL1=0.780\n",
      "[Epoch 2][Batch 40], Speed: 36.651 samples/sec, CrossEntropy=1.960, SmoothL1=0.787\n",
      "[Epoch 2][Batch 60], Speed: 36.534 samples/sec, CrossEntropy=1.949, SmoothL1=0.781\n",
      "[Epoch 2][Batch 80], Speed: 35.266 samples/sec, CrossEntropy=1.919, SmoothL1=0.769\n",
      "[Epoch 2][Batch 100], Speed: 36.998 samples/sec, CrossEntropy=1.901, SmoothL1=0.763\n",
      "[Epoch 2][Batch 120], Speed: 35.482 samples/sec, CrossEntropy=1.886, SmoothL1=0.756\n",
      "[Epoch 2][Batch 140], Speed: 35.392 samples/sec, CrossEntropy=1.882, SmoothL1=0.753\n",
      "copepod=0.9060157652496532\n",
      "eggs=0.34117106762295074\n",
      "mAP=0.623593416436302\n",
      "[Epoch 3][Batch 0], Speed: 33.467 samples/sec, CrossEntropy=1.856, SmoothL1=0.896\n",
      "[Epoch 3][Batch 20], Speed: 38.164 samples/sec, CrossEntropy=1.870, SmoothL1=0.755\n",
      "[Epoch 3][Batch 40], Speed: 38.677 samples/sec, CrossEntropy=1.861, SmoothL1=0.749\n",
      "[Epoch 3][Batch 60], Speed: 36.001 samples/sec, CrossEntropy=1.832, SmoothL1=0.737\n",
      "[Epoch 3][Batch 80], Speed: 35.434 samples/sec, CrossEntropy=1.824, SmoothL1=0.740\n",
      "[Epoch 3][Batch 100], Speed: 35.787 samples/sec, CrossEntropy=1.834, SmoothL1=0.749\n",
      "[Epoch 3][Batch 120], Speed: 35.065 samples/sec, CrossEntropy=1.839, SmoothL1=0.752\n",
      "[Epoch 3][Batch 140], Speed: 36.488 samples/sec, CrossEntropy=1.837, SmoothL1=0.744\n",
      "[Epoch 4][Batch 0], Speed: 31.620 samples/sec, CrossEntropy=1.901, SmoothL1=0.707\n",
      "[Epoch 4][Batch 20], Speed: 35.157 samples/sec, CrossEntropy=1.734, SmoothL1=0.665\n",
      "[Epoch 4][Batch 40], Speed: 36.996 samples/sec, CrossEntropy=1.759, SmoothL1=0.707\n",
      "[Epoch 4][Batch 60], Speed: 36.996 samples/sec, CrossEntropy=1.757, SmoothL1=0.698\n",
      "[Epoch 4][Batch 80], Speed: 38.187 samples/sec, CrossEntropy=1.728, SmoothL1=0.689\n",
      "[Epoch 4][Batch 100], Speed: 36.282 samples/sec, CrossEntropy=1.725, SmoothL1=0.692\n",
      "[Epoch 4][Batch 120], Speed: 36.496 samples/sec, CrossEntropy=1.728, SmoothL1=0.693\n",
      "[Epoch 4][Batch 140], Speed: 33.874 samples/sec, CrossEntropy=1.730, SmoothL1=0.692\n",
      "copepod=0.9056532518995715\n",
      "eggs=0.5212954877474123\n",
      "mAP=0.7134743698234919\n",
      "[Epoch 5][Batch 0], Speed: 31.950 samples/sec, CrossEntropy=1.933, SmoothL1=0.852\n",
      "[Epoch 5][Batch 20], Speed: 36.742 samples/sec, CrossEntropy=1.746, SmoothL1=0.680\n",
      "[Epoch 5][Batch 40], Speed: 38.662 samples/sec, CrossEntropy=1.762, SmoothL1=0.699\n",
      "[Epoch 5][Batch 60], Speed: 37.262 samples/sec, CrossEntropy=1.739, SmoothL1=0.678\n",
      "[Epoch 5][Batch 80], Speed: 35.995 samples/sec, CrossEntropy=1.727, SmoothL1=0.676\n",
      "[Epoch 5][Batch 100], Speed: 35.681 samples/sec, CrossEntropy=1.709, SmoothL1=0.671\n",
      "[Epoch 5][Batch 120], Speed: 38.496 samples/sec, CrossEntropy=1.690, SmoothL1=0.665\n",
      "[Epoch 5][Batch 140], Speed: 37.340 samples/sec, CrossEntropy=1.675, SmoothL1=0.662\n",
      "[Epoch 6][Batch 0], Speed: 35.281 samples/sec, CrossEntropy=1.538, SmoothL1=0.642\n",
      "[Epoch 6][Batch 20], Speed: 38.905 samples/sec, CrossEntropy=1.587, SmoothL1=0.609\n",
      "[Epoch 6][Batch 40], Speed: 34.541 samples/sec, CrossEntropy=1.664, SmoothL1=0.635\n",
      "[Epoch 6][Batch 60], Speed: 35.921 samples/sec, CrossEntropy=1.659, SmoothL1=0.630\n",
      "[Epoch 6][Batch 80], Speed: 38.187 samples/sec, CrossEntropy=1.643, SmoothL1=0.628\n",
      "[Epoch 6][Batch 100], Speed: 36.805 samples/sec, CrossEntropy=1.633, SmoothL1=0.628\n",
      "[Epoch 6][Batch 120], Speed: 37.118 samples/sec, CrossEntropy=1.629, SmoothL1=0.637\n",
      "[Epoch 6][Batch 140], Speed: 35.387 samples/sec, CrossEntropy=1.633, SmoothL1=0.636\n",
      "copepod=0.9522976926522927\n",
      "eggs=0.6916518559617353\n",
      "mAP=0.821974774307014\n",
      "[Epoch 7][Batch 0], Speed: 34.429 samples/sec, CrossEntropy=1.661, SmoothL1=0.636\n",
      "[Epoch 7][Batch 20], Speed: 37.399 samples/sec, CrossEntropy=1.622, SmoothL1=0.657\n",
      "[Epoch 7][Batch 40], Speed: 39.067 samples/sec, CrossEntropy=1.585, SmoothL1=0.638\n",
      "[Epoch 7][Batch 60], Speed: 36.632 samples/sec, CrossEntropy=1.588, SmoothL1=0.627\n",
      "[Epoch 7][Batch 80], Speed: 35.111 samples/sec, CrossEntropy=1.577, SmoothL1=0.624\n",
      "[Epoch 7][Batch 100], Speed: 37.504 samples/sec, CrossEntropy=1.589, SmoothL1=0.632\n",
      "[Epoch 7][Batch 120], Speed: 37.564 samples/sec, CrossEntropy=1.584, SmoothL1=0.630\n",
      "[Epoch 7][Batch 140], Speed: 34.496 samples/sec, CrossEntropy=1.585, SmoothL1=0.629\n",
      "[Epoch 8][Batch 0], Speed: 36.408 samples/sec, CrossEntropy=1.510, SmoothL1=0.556\n",
      "[Epoch 8][Batch 20], Speed: 35.935 samples/sec, CrossEntropy=1.549, SmoothL1=0.630\n",
      "[Epoch 8][Batch 40], Speed: 37.868 samples/sec, CrossEntropy=1.547, SmoothL1=0.621\n",
      "[Epoch 8][Batch 60], Speed: 38.164 samples/sec, CrossEntropy=1.561, SmoothL1=0.629\n",
      "[Epoch 8][Batch 80], Speed: 34.716 samples/sec, CrossEntropy=1.552, SmoothL1=0.624\n",
      "[Epoch 8][Batch 100], Speed: 37.064 samples/sec, CrossEntropy=1.549, SmoothL1=0.619\n",
      "[Epoch 8][Batch 120], Speed: 36.696 samples/sec, CrossEntropy=1.548, SmoothL1=0.618\n",
      "[Epoch 8][Batch 140], Speed: 37.640 samples/sec, CrossEntropy=1.555, SmoothL1=0.618\n",
      "copepod=0.9522587774985968\n",
      "eggs=0.7452845930443474\n",
      "mAP=0.8487716852714721\n",
      "[Epoch 9][Batch 0], Speed: 34.136 samples/sec, CrossEntropy=1.596, SmoothL1=0.834\n",
      "[Epoch 9][Batch 20], Speed: 37.385 samples/sec, CrossEntropy=1.514, SmoothL1=0.632\n",
      "[Epoch 9][Batch 40], Speed: 36.569 samples/sec, CrossEntropy=1.506, SmoothL1=0.611\n",
      "[Epoch 9][Batch 60], Speed: 34.333 samples/sec, CrossEntropy=1.507, SmoothL1=0.609\n",
      "[Epoch 9][Batch 80], Speed: 36.091 samples/sec, CrossEntropy=1.533, SmoothL1=0.612\n",
      "[Epoch 9][Batch 100], Speed: 36.292 samples/sec, CrossEntropy=1.534, SmoothL1=0.610\n",
      "[Epoch 9][Batch 120], Speed: 37.274 samples/sec, CrossEntropy=1.534, SmoothL1=0.611\n",
      "[Epoch 9][Batch 140], Speed: 36.894 samples/sec, CrossEntropy=1.534, SmoothL1=0.607\n"
     ]
    }
   ],
   "source": [
    "train(net, train_data, val_data, val_metric, contx, 10, 2)"
   ]
  },
  {
   "cell_type": "markdown",
   "metadata": {},
   "source": [
    "## Test\n",
    "Define a data loader for the test data"
   ]
  },
  {
   "cell_type": "code",
   "execution_count": 12,
   "metadata": {},
   "outputs": [],
   "source": [
    "def test_dataloader(net, t_data, data_shape, batch_size, num_workers, ctx):\n",
    "    \"\"\"Get dataloader.\"\"\"\n",
    "    width, height = data_shape, data_shape\n",
    "    \n",
    "    test_batchify_fn = Tuple(Stack(), Pad(pad_val=-1))\n",
    "    \n",
    "    # the validation loader \n",
    "    test_loader = gluon.data.DataLoader(\n",
    "        t_data.transform(SSDDefaultValTransform(width, height)),\n",
    "        batch_size, False, batchify_fn=test_batchify_fn, last_batch='keep',\n",
    "        num_workers=num_workers)\n",
    "    \n",
    "    return test_loader\n"
   ]
  },
  {
   "cell_type": "markdown",
   "metadata": {},
   "source": [
    "Load test data"
   ]
  },
  {
   "cell_type": "code",
   "execution_count": 13,
   "metadata": {},
   "outputs": [],
   "source": [
    "test_dataset = CustomVOCDetectionBase(classes=cl,\n",
    "                          root=rt, \n",
    "                          splits=((voc_base,f'{img_list}/test'),))\n",
    "test_data = test_dataloader(net, test_dataset, 512, 16, 0, contx[0])"
   ]
  },
  {
   "cell_type": "markdown",
   "metadata": {},
   "source": [
    "Use the validation metric and validate function from above to crank the test data through the trained network"
   ]
  },
  {
   "cell_type": "code",
   "execution_count": 14,
   "metadata": {},
   "outputs": [
    {
     "name": "stdout",
     "output_type": "stream",
     "text": [
      "copepod=0.9511507910677633\n",
      "eggs=0.7294234646282359\n",
      "mAP=0.8402871278479996\n"
     ]
    }
   ],
   "source": [
    "map_name, mean_ap = validate(net, test_data, contx, val_metric)\n",
    "val_msg = '\\n'.join(['{}={}'.format(k, v) for k, v in zip(map_name, mean_ap)])\n",
    "\n",
    "# print the output\n",
    "print(val_msg)"
   ]
  },
  {
   "cell_type": "markdown",
   "metadata": {},
   "source": [
    "## Display\n",
    "\n",
    "Grab some images that have eggs in them from the test set and look at the output. "
   ]
  },
  {
   "cell_type": "code",
   "execution_count": 28,
   "metadata": {},
   "outputs": [
    {
     "name": "stdout",
     "output_type": "stream",
     "text": [
      "266\n"
     ]
    }
   ],
   "source": [
    "import os\n",
    "ptf = os.path.join(rt,'VOCCopepodEgg/ImageSets/Main/SplitByProfile-230221/egg_test.txt')\n",
    "\n",
    "with open(ptf, 'r') as ff:\n",
    "    test_eggs = list(ff)\n",
    "    ff.close()\n",
    "    \n",
    "test_eggs = [os.path.join(rt,voc_base, 'JPEGImages',line.strip()+'.jpg')\n",
    "             for line in test_eggs]\n",
    "\n",
    "print(len(test_eggs))"
   ]
  },
  {
   "cell_type": "markdown",
   "metadata": {},
   "source": [
    "Search for the biggest ROI for easy visualization"
   ]
  },
  {
   "cell_type": "code",
   "execution_count": 33,
   "metadata": {},
   "outputs": [
    {
     "name": "stdout",
     "output_type": "stream",
     "text": [
      "368\n",
      "41\n"
     ]
    }
   ],
   "source": [
    "from PIL import Image\n",
    "\n",
    "def get_dim(img):\n",
    "    \"\"\"\n",
    "    return biggest of image dimensions\n",
    "    :param img: absolute path to image [str]\n",
    "    :return: max(width, height) [int]\n",
    "    \"\"\"\n",
    "    im = Image.open(img)\n",
    "    wid, hgt = im.size\n",
    "    return [wid, hgt]\n",
    "\n",
    "big_dim = 0\n",
    "idx = 0\n",
    "for ii in range(len(test_eggs)):\n",
    "    xx = get_dim(test_eggs[ii])\n",
    "    if np.max(xx) > big_dim:\n",
    "        big_dim = np.max(xx)\n",
    "        idx = ii\n",
    "\n",
    "print(big_dim)\n",
    "print(idx)"
   ]
  },
  {
   "cell_type": "markdown",
   "metadata": {},
   "source": [
    "Load in an image in the appropriate format and display it (it will likely look weird with the transform)"
   ]
  },
  {
   "cell_type": "code",
   "execution_count": 25,
   "metadata": {},
   "outputs": [],
   "source": [
    "# put the network on cpu for this test\n",
    "net.collect_params().reset_ctx(mx.cpu(0))"
   ]
  },
  {
   "cell_type": "code",
   "execution_count": 35,
   "metadata": {},
   "outputs": [
    {
     "data": {
      "image/png": "[encoded data removed]",
      "text/plain": [
       "<Figure size 432x288 with 1 Axes>"
      ]
     },
     "metadata": {
      "needs_background": "light"
     },
     "output_type": "display_data"
    }
   ],
   "source": [
    "%matplotlib inline\n",
    "import matplotlib.pyplot as plt\n",
    "\n",
    "x, img = gcv.data.transforms.presets.ssd.load_test(test_eggs[41], 512)\n",
    "\n",
    "# display\n",
    "cid, score, bbox = net(x)\n",
    "ax = viz.plot_bbox(img, bbox[0], score[0], cid[0], class_names=test_dataset.classes)\n",
    "plt.axis('off')\n",
    "plt.show()"
   ]
  },
  {
   "cell_type": "code",
   "execution_count": null,
   "metadata": {},
   "outputs": [],
   "source": []
  }
 ],
 "metadata": {
  "kernelspec": {
   "display_name": "Python (mx-gluon)",
   "language": "python",
   "name": "mx-gluon"
  },
  "language_info": {
   "codemirror_mode": {
    "name": "ipython",
    "version": 3
   },
   "file_extension": ".py",
   "mimetype": "text/x-python",
   "name": "python",
   "nbconvert_exporter": "python",
   "pygments_lexer": "ipython3",
   "version": "3.6.12"
  }
 },
 "nbformat": 4,
 "nbformat_minor": 4
}
